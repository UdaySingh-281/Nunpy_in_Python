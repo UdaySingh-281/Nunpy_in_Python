{
  "nbformat": 4,
  "nbformat_minor": 0,
  "metadata": {
    "colab": {
      "provenance": []
    },
    "kernelspec": {
      "name": "python3",
      "display_name": "Python 3"
    },
    "language_info": {
      "name": "python"
    }
  },
  "cells": [
    {
      "cell_type": "code",
      "execution_count": 1,
      "metadata": {
        "id": "hYH4Qu3FT91_"
      },
      "outputs": [],
      "source": [
        "import numpy as np"
      ]
    },
    {
      "cell_type": "code",
      "source": [
        "# Write a Python program to convert a list of numeric value into a one-dimensional\n",
        "# NumPy array.\n",
        "# Expected Output:\n",
        "# Original List: [12.23, 13.32, 100, 36.32]\n",
        "# One-dimensional numpy array: [ 12.23 13.32 100. 36.32]\n",
        "\n",
        "lst = [12.23, 13.32, 100, 36.32]\n",
        "arr = np.array(lst)\n",
        "arr"
      ],
      "metadata": {
        "colab": {
          "base_uri": "https://localhost:8080/"
        },
        "id": "U9v1Wu2UUBWx",
        "outputId": "b96f2807-18a8-428a-90f2-3cc7e0d19e53"
      },
      "execution_count": 2,
      "outputs": [
        {
          "output_type": "execute_result",
          "data": {
            "text/plain": [
              "array([ 12.23,  13.32, 100.  ,  36.32])"
            ]
          },
          "metadata": {},
          "execution_count": 2
        }
      ]
    },
    {
      "cell_type": "code",
      "source": [
        "# Create a 3x3 matrix with values ranging from 2 to 10.\n",
        "# Expected Output:\n",
        "# [[ 2 3 4]\n",
        "# [ 5 6 7]\n",
        "# [ 8 9 10]]\n",
        "\n",
        "arr = np.arange(2,11).reshape(3,3)\n",
        "arr"
      ],
      "metadata": {
        "id": "j-awRFC1UFs6",
        "colab": {
          "base_uri": "https://localhost:8080/"
        },
        "outputId": "3fae2023-ff52-4490-d3d6-293818fabc65"
      },
      "execution_count": 4,
      "outputs": [
        {
          "output_type": "execute_result",
          "data": {
            "text/plain": [
              "array([[ 2,  3,  4],\n",
              "       [ 5,  6,  7],\n",
              "       [ 8,  9, 10]])"
            ]
          },
          "metadata": {},
          "execution_count": 4
        }
      ]
    },
    {
      "cell_type": "code",
      "source": [
        "# Write a Python program to create a null vector of size 10 and update sixth value to 11.\n",
        "# [ 0. 0. 0. 0. 0. 0. 0. 0. 0. 0.]\n",
        "# Update sixth value to 11\n",
        "# [ 0. 0. 0. 0. 0. 0. 11. 0. 0. 0.]\n",
        "index = int(input(\"Enter the index to be updated: \"))\n",
        "arr = np.zeros(10)\n",
        "arr[index] = 11\n",
        "arr"
      ],
      "metadata": {
        "colab": {
          "base_uri": "https://localhost:8080/"
        },
        "id": "HvZiIz_qdUSZ",
        "outputId": "c2ae49d1-c66e-4f9d-b5b5-1844d63ad9ce"
      },
      "execution_count": 5,
      "outputs": [
        {
          "name": "stdout",
          "output_type": "stream",
          "text": [
            "Enter the index to be updated: 6\n"
          ]
        },
        {
          "output_type": "execute_result",
          "data": {
            "text/plain": [
              "array([ 0.,  0.,  0.,  0.,  0.,  0., 11.,  0.,  0.,  0.])"
            ]
          },
          "metadata": {},
          "execution_count": 5
        }
      ]
    },
    {
      "cell_type": "code",
      "source": [
        "# Write a Python program to reverse an array (first element becomes last).\n",
        "# Original array:\n",
        "# [12 13 14 15 16 17 18 19 20 21 22 23 24 25 26 27 28 29 30 31 32 33 34 35 36 37]\n",
        "# Reverse array:\n",
        "# [37 36 35 34 33 32 31 30 29 28 27 26 25 24 23 22 21 20 19 18 17 16 15 14 13 12]\n",
        "\n",
        "arr = np.arange(12,38)\n",
        "arr[::-1]"
      ],
      "metadata": {
        "id": "I-npOgnVeCy4",
        "colab": {
          "base_uri": "https://localhost:8080/"
        },
        "outputId": "abcff04c-655e-4c07-d14d-96565f62e587"
      },
      "execution_count": 6,
      "outputs": [
        {
          "output_type": "execute_result",
          "data": {
            "text/plain": [
              "array([37, 36, 35, 34, 33, 32, 31, 30, 29, 28, 27, 26, 25, 24, 23, 22, 21,\n",
              "       20, 19, 18, 17, 16, 15, 14, 13, 12])"
            ]
          },
          "metadata": {},
          "execution_count": 6
        }
      ]
    },
    {
      "cell_type": "code",
      "source": [
        "# Write a Python program to create a 2d array with 1 on the border and 0 inside.\n",
        "# Expected Output:\n",
        "# Original array:\n",
        "# [[ 1. 1. 1. 1. 1.]\n",
        "# [ 1. 1. 1. 1. 1.]\n",
        "# [ 1. 1. 1. 1. 1.]\n",
        "# [ 1. 1. 1. 1. 1.]\n",
        "# [ 1. 1. 1. 1. 1.]]\n",
        "\n",
        "# 1 on the border and 0 inside in the array\n",
        "# [[ 1. 1. 1. 1. 1.]\n",
        "# [ 1. 0. 0. 0. 1.]\n",
        "# [ 1. 0. 0. 0. 1.]\n",
        "# [ 1. 0. 0. 0. 1.]\n",
        "# [ 1. 1. 1. 1. 1.]]\n",
        "\n",
        "arr = np.ones((5,5))\n",
        "arr[1:-1,1:-1] = 0\n",
        "arr"
      ],
      "metadata": {
        "colab": {
          "base_uri": "https://localhost:8080/"
        },
        "id": "Kf2uG5bTPcT6",
        "outputId": "6914ae08-85b0-4d1d-b233-47f6b0fb6a6b"
      },
      "execution_count": 9,
      "outputs": [
        {
          "output_type": "execute_result",
          "data": {
            "text/plain": [
              "array([[1., 1., 1., 1., 1.],\n",
              "       [1., 0., 0., 0., 1.],\n",
              "       [1., 0., 0., 0., 1.],\n",
              "       [1., 0., 0., 0., 1.],\n",
              "       [1., 1., 1., 1., 1.]])"
            ]
          },
          "metadata": {},
          "execution_count": 9
        }
      ]
    },
    {
      "cell_type": "code",
      "source": [
        "# Write a Python program to add a border (filled with 0's) around an existing array.\n",
        "# Expected Output:\n",
        "# Original array:\n",
        "# [[ 1. 1. 1.]\n",
        "# [ 1. 1. 1.]\n",
        "# [ 1. 1. 1.]]\n",
        "# 1 on the border and 0 inside in the array\n",
        "# [[ 0. 0. 0. 0. 0.]\n",
        "# [ 0. 1. 1. 1. 0.]\n",
        "# [ 0. 1. 1. 1. 0.]\n",
        "# [ 0. 1. 1. 1. 0.]\n",
        "# [ 0. 0. 0. 0. 0.]]\n",
        "\n",
        "arr = np.ones((3,3))\n",
        "arr = np.pad(arr, (1,1), mode= 'constant', constant_values= 0)\n",
        "arr"
      ],
      "metadata": {
        "colab": {
          "base_uri": "https://localhost:8080/"
        },
        "id": "j6BefdEXP2ad",
        "outputId": "15fd3de0-4ede-4858-962e-6a3a5440c4eb"
      },
      "execution_count": 15,
      "outputs": [
        {
          "output_type": "execute_result",
          "data": {
            "text/plain": [
              "array([[0., 0., 0., 0., 0.],\n",
              "       [0., 1., 1., 1., 0.],\n",
              "       [0., 1., 1., 1., 0.],\n",
              "       [0., 1., 1., 1., 0.],\n",
              "       [0., 0., 0., 0., 0.]])"
            ]
          },
          "metadata": {},
          "execution_count": 15
        }
      ]
    },
    {
      "cell_type": "code",
      "source": [
        "# 7. Write a Python program to create a 8x8 matrix and fill it with a checkerboard pattern.\n",
        "# Checkerboard pattern:\n",
        "# [[0 1 0 1 0 1 0 1]\n",
        "# [1 0 1 0 1 0 1 0]\n",
        "# [0 1 0 1 0 1 0 1]\n",
        "# [1 0 1 0 1 0 1 0]\n",
        "# [0 1 0 1 0 1 0 1]\n",
        "# [1 0 1 0 1 0 1 0]\n",
        "# [0 1 0 1 0 1 0 1]\n",
        "# [1 0 1 0 1 0 1 0]]\n",
        "\n",
        "arr = np.zeros((8,8))\n",
        "arr[::2, 1::2] = 1\n",
        "arr[1::2,::2] = 1\n",
        "arr\n"
      ],
      "metadata": {
        "colab": {
          "base_uri": "https://localhost:8080/"
        },
        "id": "Kw4WHNc2QIwn",
        "outputId": "652513e5-70f9-44bf-b301-d57412cc1eb9"
      },
      "execution_count": 30,
      "outputs": [
        {
          "output_type": "execute_result",
          "data": {
            "text/plain": [
              "array([[0., 1., 0., 1., 0., 1., 0., 1.],\n",
              "       [1., 0., 1., 0., 1., 0., 1., 0.],\n",
              "       [0., 1., 0., 1., 0., 1., 0., 1.],\n",
              "       [1., 0., 1., 0., 1., 0., 1., 0.],\n",
              "       [0., 1., 0., 1., 0., 1., 0., 1.],\n",
              "       [1., 0., 1., 0., 1., 0., 1., 0.],\n",
              "       [0., 1., 0., 1., 0., 1., 0., 1.],\n",
              "       [1., 0., 1., 0., 1., 0., 1., 0.]])"
            ]
          },
          "metadata": {},
          "execution_count": 30
        }
      ]
    },
    {
      "cell_type": "code",
      "source": [
        "# 8. Write a Python program to convert a list and tuple into arrays.\n",
        "# List to array:\n",
        "# [1 2 3 4 5 6 7 8]\n",
        "# Tuple to array:\n",
        "# [[8 4 6]\n",
        "# [1 2 3]]\n",
        "\n",
        "lst = [1,2,3,4,5,6,7,8]\n",
        "arr = np.array(lst)\n",
        "print(\"List to Array --->\",arr)\n",
        "\n",
        "tup = ((8,4,6),(1,2,3))\n",
        "arr = np.array(tup)\n",
        "print(\"Tuple to Array --->\", arr)"
      ],
      "metadata": {
        "colab": {
          "base_uri": "https://localhost:8080/"
        },
        "id": "oP18jDcmRiRg",
        "outputId": "b4be59df-030f-46d6-fae6-53a56ad38d47"
      },
      "execution_count": 32,
      "outputs": [
        {
          "output_type": "stream",
          "name": "stdout",
          "text": [
            "List to Array ---> [1 2 3 4 5 6 7 8]\n",
            "Tuple to Array ---> [[8 4 6]\n",
            " [1 2 3]]\n"
          ]
        }
      ]
    },
    {
      "cell_type": "code",
      "source": [
        "# Write a Python program to append values to the end of an array.\n",
        "# Expected Output:\n",
        "# Original array:\n",
        "# [10, 20, 30]\n",
        "\n",
        "arr = np.array([10,20,30])\n",
        "arr = np.append(arr, [40,50,60,70,80,90])\n",
        "arr"
      ],
      "metadata": {
        "colab": {
          "base_uri": "https://localhost:8080/"
        },
        "id": "_KEOMFyCSbg-",
        "outputId": "08a011ab-d6f4-454c-8015-8ca397e09a81"
      },
      "execution_count": 35,
      "outputs": [
        {
          "output_type": "execute_result",
          "data": {
            "text/plain": [
              "array([10, 20, 30, 40, 50, 60, 70, 80, 90])"
            ]
          },
          "metadata": {},
          "execution_count": 35
        }
      ]
    },
    {
      "cell_type": "code",
      "source": [
        "# Write a Python program to find the real and imaginary parts of an array of complex\n",
        "# numbers.\n",
        "# Expected Output:\n",
        "# Original array [ 1.00000000+0.j 0.70710678+0.70710678j]\n",
        "# Real part of the array:\n",
        "# [ 1. 0.70710678]\n",
        "# Imaginary part of the array:\n",
        "# [ 0. 0.70710678]\n",
        "\n",
        "complex_arr = np.array([1.00000000+0.j, 0.70710678+0.70710678j])\n",
        "\n",
        "print(\"Real Part --->\", complex_arr.real)\n",
        "print(\"Imaginary Part --->\", complex_arr.imag)\n",
        "\n"
      ],
      "metadata": {
        "colab": {
          "base_uri": "https://localhost:8080/"
        },
        "id": "HYlFdcBiS1pb",
        "outputId": "438fbc10-abac-4c74-a302-0e57dcf27535"
      },
      "execution_count": 36,
      "outputs": [
        {
          "output_type": "stream",
          "name": "stdout",
          "text": [
            "Real Part ---> [1.         0.70710678]\n",
            "Imaginary Part ---> [0.         0.70710678]\n"
          ]
        }
      ]
    },
    {
      "cell_type": "code",
      "source": [
        "# Write a Python program to find the number of elements of an array, length of one\n",
        "# array element in bytes and total bytes consumed by the elements.\n",
        "# Expected Output:\n",
        "# Size of the array: 3\n",
        "# Length of one array element in bytes: 8\n",
        "# Total bytes consumed by the elements of the array: 24\n",
        "\n",
        "arr = np.array([1,2,3])\n",
        "print(\"Size of the array --->\", arr.size)\n",
        "print(\"Length of one array element in bytes --->\", arr.itemsize)\n",
        "print(\"Total bytes consumed by the elements of the array --->\", arr.nbytes)"
      ],
      "metadata": {
        "colab": {
          "base_uri": "https://localhost:8080/"
        },
        "id": "tPjTEKR2Tidw",
        "outputId": "b82e9325-5e5b-457b-a028-6370870dd4a2"
      },
      "execution_count": 37,
      "outputs": [
        {
          "output_type": "stream",
          "name": "stdout",
          "text": [
            "Size of the array ---> 3\n",
            "Length of one array element in bytes ---> 8\n",
            "Total bytes consumed by the elements of the array ---> 24\n"
          ]
        }
      ]
    },
    {
      "cell_type": "code",
      "source": [
        "# Write a Python program to find common values between two arrays.\n",
        "# Expected Output:\n",
        "# Array1: [ 0 10 20 40 60]\n",
        "# Array2: [10, 30, 40]\n",
        "# Common values between two arrays:\n",
        "# [10 40]\n",
        "\n",
        "arr1 = np.array([0,10,20,40,60])\n",
        "arr2 = np.array([10,30,40])\n",
        "np.intersect1d(arr1,arr2)"
      ],
      "metadata": {
        "colab": {
          "base_uri": "https://localhost:8080/"
        },
        "id": "jVYWanBGTzd7",
        "outputId": "ac5f1231-7f59-4c67-891a-9357bba8f1d5"
      },
      "execution_count": 38,
      "outputs": [
        {
          "output_type": "execute_result",
          "data": {
            "text/plain": [
              "array([10, 40])"
            ]
          },
          "metadata": {},
          "execution_count": 38
        }
      ]
    },
    {
      "cell_type": "code",
      "source": [
        "# Write a Python program to find the set difference of two arrays. The set difference\n",
        "# will return the sorted, unique values in array1 that are not in array2.\n",
        "# Expected Output:\n",
        "# Array1: [ 0 10 20 40 60 80]\n",
        "# Array2: [10, 30, 40, 50, 70, 90]\n",
        "# Set difference between two arrays:\n",
        "# [ 0 20 60 80]\n",
        "\n",
        "arr1 = np.array([0,10,20,40,60,80])\n",
        "arr2 = np.array([10,30,40,50,70,90])\n",
        "np.setdiff1d(arr1,arr2)"
      ],
      "metadata": {
        "colab": {
          "base_uri": "https://localhost:8080/"
        },
        "id": "sqVb6OvST_aq",
        "outputId": "145d613a-7e47-4170-9c64-919802ca3ec5"
      },
      "execution_count": 39,
      "outputs": [
        {
          "output_type": "execute_result",
          "data": {
            "text/plain": [
              "array([ 0, 20, 60, 80])"
            ]
          },
          "metadata": {},
          "execution_count": 39
        }
      ]
    },
    {
      "cell_type": "code",
      "source": [
        "# Write a Python program to find the set exclusive-or of two arrays. Set exclusive-or\n",
        "# will return the sorted, unique values that are in only one (not both) of the input arrays.\n",
        "# Array1: [ 0 10 20 40 60 80]\n",
        "# Array2: [10, 30, 40, 50, 70]\n",
        "# Unique values that are in only one (not both) of the input arrays:\n",
        "# [ 0 20 30 50 60 70 80]\n",
        "\n",
        "arr1 = np.array([0,10,20,40,60,80])\n",
        "arr2 = np.array([10,30,40,50,70])\n",
        "np.setxor1d(arr1,arr2)"
      ],
      "metadata": {
        "colab": {
          "base_uri": "https://localhost:8080/"
        },
        "id": "9jF8zoAHVdPC",
        "outputId": "7caa5857-7665-4003-baf2-42dac7028c67"
      },
      "execution_count": 40,
      "outputs": [
        {
          "output_type": "execute_result",
          "data": {
            "text/plain": [
              "array([ 0, 20, 30, 50, 60, 70, 80])"
            ]
          },
          "metadata": {},
          "execution_count": 40
        }
      ]
    },
    {
      "cell_type": "code",
      "source": [
        "# Write a Python program compare two arrays using numpy.\n",
        "# Array a: [1 2]\n",
        "# Array b: [4 5]\n",
        "# a > b\n",
        "# [False False]\n",
        "# a >= b\n",
        "# [False False]\n",
        "# a < b\n",
        "# [ True True]\n",
        "# a <= b\n",
        "# [ True True]\n",
        "\n",
        "arr1 = np.array([1,2])\n",
        "arr2 = np.array([4,5])\n",
        "\n",
        "print(arr1 > arr2)\n",
        "print(arr1 >= arr2)\n",
        "print(arr1 < arr2)\n",
        "print(arr1 <= arr2)\n"
      ],
      "metadata": {
        "colab": {
          "base_uri": "https://localhost:8080/"
        },
        "id": "CTxmWcaNVlLK",
        "outputId": "97749d78-37e7-4bc9-a06e-9279817d865f"
      },
      "execution_count": 41,
      "outputs": [
        {
          "output_type": "stream",
          "name": "stdout",
          "text": [
            "[False False]\n",
            "[False False]\n",
            "[ True  True]\n",
            "[ True  True]\n"
          ]
        }
      ]
    },
    {
      "cell_type": "code",
      "source": [
        "# Write a Python program to save a NumPy array to a text file.\n",
        "\n",
        "arr = np.array([1,2,3,4,5,6,7,8,9])\n",
        "np.savetxt('arr.txt', arr)"
      ],
      "metadata": {
        "id": "IXXZZc_FVs7q"
      },
      "execution_count": 42,
      "outputs": []
    },
    {
      "cell_type": "code",
      "source": [
        "# Write a Python program to create a contiguous flattened array.\n",
        "# Original array:\n",
        "# [[10 20 30]\n",
        "# [20 40 50]]\n",
        "# New flattened array:\n",
        "# [10 20 30 20 40 50]\n",
        "\n",
        "arr = np.array([[10,20,30],[20,40,50]])\n",
        "arr.flatten()"
      ],
      "metadata": {
        "colab": {
          "base_uri": "https://localhost:8080/"
        },
        "id": "ZkVigbYqV2Tk",
        "outputId": "25cbe1cb-f0de-45bd-d5a1-e5d8dbb37b36"
      },
      "execution_count": 43,
      "outputs": [
        {
          "output_type": "execute_result",
          "data": {
            "text/plain": [
              "array([10, 20, 30, 20, 40, 50])"
            ]
          },
          "metadata": {},
          "execution_count": 43
        }
      ]
    },
    {
      "cell_type": "code",
      "source": [
        "# Write a Python program to change the data type of an array.\n",
        "# Expected Output:\n",
        "# [[ 2 4 6]\n",
        "# [ 6 8 10]]\n",
        "# Data type of the array x is: int32\n",
        "# New Type: float64\n",
        "# [[ 2. 4. 6.]\n",
        "# [ 6. 8. 10.]]\n",
        "\n",
        "arr = np.array([[2,4,6],[6,8,10]], dtype= 'int32')\n",
        "print(\"Data type of the array x is: \", arr.dtype)\n",
        "\n",
        "arr = arr.astype('float64')\n",
        "print(\"New Type: \", arr.dtype)\n",
        "print(arr)"
      ],
      "metadata": {
        "colab": {
          "base_uri": "https://localhost:8080/"
        },
        "id": "ULaUfqFvV-eV",
        "outputId": "76058320-b26a-4b1c-b983-44580133426e"
      },
      "execution_count": 45,
      "outputs": [
        {
          "output_type": "stream",
          "name": "stdout",
          "text": [
            "Data type of the array x is:  int32\n",
            "New Type:  float64\n",
            "[[ 2.  4.  6.]\n",
            " [ 6.  8. 10.]]\n"
          ]
        }
      ]
    },
    {
      "cell_type": "code",
      "source": [
        "# Write a Python program to create a 3-D array with ones on a diagonal and zeros\n",
        "# elsewhere.\n",
        "# Expected Output:\n",
        "# [[ 1. 0. 0.]\n",
        "# [ 0. 1. 0.]\n",
        "# [ 0. 0. 1.]]\n",
        "\n",
        "arr = np.eye(3)\n",
        "arr"
      ],
      "metadata": {
        "colab": {
          "base_uri": "https://localhost:8080/"
        },
        "id": "ohDeL1qpWGSF",
        "outputId": "c33c8276-e98e-4154-9f5f-518f7a366a49"
      },
      "execution_count": 49,
      "outputs": [
        {
          "output_type": "execute_result",
          "data": {
            "text/plain": [
              "array([[1., 0., 0.],\n",
              "       [0., 1., 0.],\n",
              "       [0., 0., 1.]])"
            ]
          },
          "metadata": {},
          "execution_count": 49
        }
      ]
    },
    {
      "cell_type": "code",
      "source": [
        "# Write a Python program to create an array which looks like below array.\n",
        "# Expected Output:\n",
        "# [[ 0. 0. 0.]\n",
        "# [ 1. 0. 0.]\n",
        "# [ 1. 1. 0.]\n",
        "# [ 1. 1. 1.]]\n",
        "arr = np.ones((4,3))\n",
        "arr = np.tril(arr,-1)\n",
        "arr"
      ],
      "metadata": {
        "colab": {
          "base_uri": "https://localhost:8080/"
        },
        "id": "peTCHteSWP1E",
        "outputId": "8247deec-821a-498e-c674-73b43bfd1d46"
      },
      "execution_count": 93,
      "outputs": [
        {
          "output_type": "execute_result",
          "data": {
            "text/plain": [
              "array([[0., 0., 0.],\n",
              "       [1., 0., 0.],\n",
              "       [1., 1., 0.],\n",
              "       [1., 1., 1.]])"
            ]
          },
          "metadata": {},
          "execution_count": 93
        }
      ]
    },
    {
      "cell_type": "code",
      "source": [
        "# Write a Python program to concatenate two 2-dimensional arrays.\n",
        "# Expected Output:\n",
        "# Sample arrays: ([[0, 1, 3], [5, 7, 9]], [[0, 2, 4], [6, 8, 10]]\n",
        "# Expected Output:\n",
        "# [[ 0 1 3 0 2 4]\n",
        "# [ 5 7 9 6 8 10]]\n",
        "\n",
        "arr1 = np.array([[0, 1, 3], [5, 7, 9]])\n",
        "arr2 = np.array([[0, 2, 4], [6, 8, 10]])\n",
        "np.concatenate((arr1,arr2), axis= 1)"
      ],
      "metadata": {
        "colab": {
          "base_uri": "https://localhost:8080/"
        },
        "id": "e-D1mE5fWfYv",
        "outputId": "3ec75b5c-fc97-4454-835e-bc40634b92b2"
      },
      "execution_count": 77,
      "outputs": [
        {
          "output_type": "execute_result",
          "data": {
            "text/plain": [
              "array([[ 0,  1,  3,  0,  2,  4],\n",
              "       [ 5,  7,  9,  6,  8, 10]])"
            ]
          },
          "metadata": {},
          "execution_count": 77
        }
      ]
    },
    {
      "cell_type": "code",
      "source": [
        "# Write a Python program to make an array immutable (read-only).\n",
        "# Expected Output:\n",
        "# Test the array is read-only or not:\n",
        "# Try to change the value of the first element:\n",
        "# Traceback (most recent call last):\n",
        "# File \"19236bd0-0bd9-11e7-a232-c706d0968eb6.py\", line 6, in\n",
        "# x[0] = 1\n",
        "# ValueError: assignment destination is read-only\n",
        "\n",
        "arr = np.array([1,2,3,4,5,6,7,8,9])\n",
        "arr.flags.writeable = False\n",
        "\n",
        "arr[0] = 10"
      ],
      "metadata": {
        "colab": {
          "base_uri": "https://localhost:8080/",
          "height": 176
        },
        "id": "d7DwNLaAYMQX",
        "outputId": "267d0989-4fd3-4cdc-df4b-475d5d6bfbb8"
      },
      "execution_count": 79,
      "outputs": [
        {
          "output_type": "error",
          "ename": "ValueError",
          "evalue": "assignment destination is read-only",
          "traceback": [
            "\u001b[0;31m---------------------------------------------------------------------------\u001b[0m",
            "\u001b[0;31mValueError\u001b[0m                                Traceback (most recent call last)",
            "\u001b[0;32m<ipython-input-79-91e49ef49efe>\u001b[0m in \u001b[0;36m<cell line: 13>\u001b[0;34m()\u001b[0m\n\u001b[1;32m     11\u001b[0m \u001b[0marr\u001b[0m\u001b[0;34m.\u001b[0m\u001b[0mflags\u001b[0m\u001b[0;34m.\u001b[0m\u001b[0mwriteable\u001b[0m \u001b[0;34m=\u001b[0m \u001b[0;32mFalse\u001b[0m\u001b[0;34m\u001b[0m\u001b[0;34m\u001b[0m\u001b[0m\n\u001b[1;32m     12\u001b[0m \u001b[0;34m\u001b[0m\u001b[0m\n\u001b[0;32m---> 13\u001b[0;31m \u001b[0marr\u001b[0m\u001b[0;34m[\u001b[0m\u001b[0;36m0\u001b[0m\u001b[0;34m]\u001b[0m \u001b[0;34m=\u001b[0m \u001b[0;36m10\u001b[0m\u001b[0;34m\u001b[0m\u001b[0;34m\u001b[0m\u001b[0m\n\u001b[0m",
            "\u001b[0;31mValueError\u001b[0m: assignment destination is read-only"
          ]
        }
      ]
    },
    {
      "cell_type": "code",
      "source": [
        "# Write a Python program to create an array of (3, 4) shape, multiply every element\n",
        "# value by 3 and display the new array.\n",
        "# Expected Output:\n",
        "# Original array elements:\n",
        "# [[ 0 1 2 3]\n",
        "# [ 4 5 6 7]\n",
        "# [ 8 9 10 11]]\n",
        "# New array elements:\n",
        "# [[ 0 3 6 9]\n",
        "# [12 15 18 21]\n",
        "# [24 27 30 33]]\n",
        "\n",
        "arr = np.arange(12).reshape(3,4)\n",
        "print(\"Original array elements: \\n\", arr)\n",
        "arr = arr * 3\n",
        "print(\"New array elements: \\n\", arr)"
      ],
      "metadata": {
        "colab": {
          "base_uri": "https://localhost:8080/"
        },
        "id": "CY8cCWCMZUDY",
        "outputId": "741d2401-c7e4-4a14-8cf8-3e4ef4d5c85b"
      },
      "execution_count": 80,
      "outputs": [
        {
          "output_type": "stream",
          "name": "stdout",
          "text": [
            "Original array elements: \n",
            " [[ 0  1  2  3]\n",
            " [ 4  5  6  7]\n",
            " [ 8  9 10 11]]\n",
            "New array elements: \n",
            " [[ 0  3  6  9]\n",
            " [12 15 18 21]\n",
            " [24 27 30 33]]\n"
          ]
        }
      ]
    },
    {
      "cell_type": "code",
      "source": [
        "# Write a Python program to convert a NumPy array into Python list structure.\n",
        "# Expected Output:\n",
        "# Original array elements:\n",
        "# [[0 1]\n",
        "# [2 3]\n",
        "# [4 5]]\n",
        "# Array to list:\n",
        "# [[0, 1], [2, 3], [4, 5]]\n",
        "\n",
        "arr = np.array([[0, 1], [2, 3], [4, 5]])\n",
        "print(\"Original array elements: \\n\", arr)\n",
        "lst = arr.tolist()\n",
        "print(\"Array to list: \\n\", lst)\n"
      ],
      "metadata": {
        "colab": {
          "base_uri": "https://localhost:8080/"
        },
        "id": "SN4GKE_zZkoa",
        "outputId": "6e30a5fd-4e68-4198-fadd-fa12b5a8fb1b"
      },
      "execution_count": 84,
      "outputs": [
        {
          "output_type": "stream",
          "name": "stdout",
          "text": [
            "Original array elements: \n",
            " [[0 1]\n",
            " [2 3]\n",
            " [4 5]]\n",
            "Array to list: \n",
            " [[0, 1], [2, 3], [4, 5]]\n"
          ]
        }
      ]
    },
    {
      "cell_type": "code",
      "source": [
        "# Write a Python program to convert a NumPy array into Python list structure.\n",
        "# Expected Output:\n",
        "\n",
        "# Original array elements:\n",
        "# [ 0.26153123 0.52760141 0.5718299 0.5927067 0.7831874 0.69746349\n",
        "# 0.35399976 0.99469633 0.0694458 0.54711478]\n",
        "# Print array values with precision 3:\n",
        "# [ 0.262 0.528 0.572 0.593 0.783 0.697 0.354 0.995 0.069 0.547]\n",
        "\n",
        "arr = np.array([0.26153123, 0.52760141, 0.5718299, 0.5927067, 0.7831874, 0.69746349,\n",
        "0.35399976, 0.99469633, 0.0694458, 0.54711478])\n",
        "\n",
        "np.set_printoptions(precision=3)\n",
        "print(arr)"
      ],
      "metadata": {
        "colab": {
          "base_uri": "https://localhost:8080/"
        },
        "id": "He6qZnT8Zza3",
        "outputId": "6a13d5dc-5332-482c-8ca3-a74b2257637d"
      },
      "execution_count": 95,
      "outputs": [
        {
          "output_type": "stream",
          "name": "stdout",
          "text": [
            "[0.262 0.528 0.572 0.593 0.783 0.697 0.354 0.995 0.069 0.547]\n"
          ]
        }
      ]
    },
    {
      "cell_type": "code",
      "source": [
        "# Write a Python program to suppresses the use of scientific notation for small\n",
        "# numbers in numpy array.\n",
        "# Expected Output:\n",
        "# Original array elements:\n",
        "# [ 1.60000000e-10 1.60000000e+00 1.20000000e+03 2.35000000e-01]\n",
        "# Print array values with precision 3:\n",
        "# [ 0. 1.6 1200. 0.235]\n",
        "\n",
        "arr = np.array([1.60000000e-10, 1.60000000e+00, 1.20000000e+03, 2.35000000e-01])\n",
        "np.set_printoptions(suppress = True)\n",
        "arr"
      ],
      "metadata": {
        "colab": {
          "base_uri": "https://localhost:8080/"
        },
        "id": "veO2TyXmbg15",
        "outputId": "df1c64e9-7969-46e8-9449-3627ef558c89"
      },
      "execution_count": 97,
      "outputs": [
        {
          "output_type": "execute_result",
          "data": {
            "text/plain": [
              "array([   0.   ,    1.6  , 1200.   ,    0.235])"
            ]
          },
          "metadata": {},
          "execution_count": 97
        }
      ]
    },
    {
      "cell_type": "code",
      "source": [
        "# Write a Python program to how to add an extra column to an numpy array.\n",
        "# Expected Output:\n",
        "# [[ 10 20 30 100]\n",
        "# [ 40 50 60 200]]\n",
        "\n",
        "arr = np.array([10,20,30,100])\n",
        "# arr2 = np.array([40,50,60,200])\n",
        "arr = np.row_stack((arr,[40, 50, 60, 200]))\n",
        "arr"
      ],
      "metadata": {
        "colab": {
          "base_uri": "https://localhost:8080/"
        },
        "id": "n8iOS1olb3kf",
        "outputId": "10efdb47-e46c-4df9-9eba-968f099c489b"
      },
      "execution_count": 105,
      "outputs": [
        {
          "output_type": "execute_result",
          "data": {
            "text/plain": [
              "array([[ 10,  20,  30, 100],\n",
              "       [ 40,  50,  60, 200]])"
            ]
          },
          "metadata": {},
          "execution_count": 105
        }
      ]
    },
    {
      "cell_type": "code",
      "source": [
        "# Write a Python program to remove specific elements in a numpy array.\n",
        "# Expected Output:\n",
        "# Original array:\n",
        "# [ 10 20 30 40 50 60 70 80 90 100]\n",
        "# Delete first, fourth and fifth elements:\n",
        "# [ 20 30 60 70 80 90 100]\n",
        "\n",
        "arr = np.array([10,20,30,40,50,60,70,80,90,100])\n",
        "arr = np.delete(arr, [0,3,4])\n",
        "arr"
      ],
      "metadata": {
        "colab": {
          "base_uri": "https://localhost:8080/"
        },
        "id": "oCPVyQNCcHJb",
        "outputId": "47693a69-1d42-45ab-e3a4-6c7d40567180"
      },
      "execution_count": 107,
      "outputs": [
        {
          "output_type": "execute_result",
          "data": {
            "text/plain": [
              "array([ 20,  30,  60,  70,  80,  90, 100])"
            ]
          },
          "metadata": {},
          "execution_count": 107
        }
      ]
    },
    {
      "cell_type": "code",
      "source": [],
      "metadata": {
        "id": "57eqvPCvc6ui"
      },
      "execution_count": null,
      "outputs": []
    }
  ]
}